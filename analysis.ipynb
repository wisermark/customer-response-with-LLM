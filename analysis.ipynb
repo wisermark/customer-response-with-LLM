{
 "cells": [
  {
   "cell_type": "markdown",
   "id": "f7b49410-fb5f-4883-905b-2b1a8540ea06",
   "metadata": {},
   "source": [
    "# Prompting for structure\n",
    "\n",
    "I will combine Pydantic to reliably extract structured output from an LLM."
   ]
  },
  {
   "cell_type": "code",
   "execution_count": null,
   "id": "006a0ab9-7cce-4ca5-a37b-f41fdc9fa472",
   "metadata": {},
   "outputs": [],
   "source": [
    "# Import necessary packages\n",
    "from pydantic import BaseModel, ValidationError, Field, EmailStr\n",
    "from typing import List, Literal, Optional\n",
    "import json\n",
    "from datetime import date\n",
    "from dotenv import load_dotenv\n",
    "import openai"
   ]
  },
  {
   "cell_type": "code",
   "execution_count": null,
   "id": "9e30224d-8caf-4c0b-9ccf-d6145f63e5d7",
   "metadata": {},
   "outputs": [],
   "source": [
    "# Load environment variables for API access\n",
    "load_dotenv()\n",
    "# Initialize OpenAI client for API calls\n",
    "client = openai.OpenAI()"
   ]
  },
  {
   "cell_type": "markdown",
   "id": "9e449798-e81e-46c5-8690-13b414369f48",
   "metadata": {},
   "source": [
    "# Define some sample input data"
   ]
  },
  {
   "cell_type": "code",
   "execution_count": null,
   "id": "e4f4510e-412a-4e18-a5e1-5223271df3f4",
   "metadata": {},
   "outputs": [],
   "source": [
    "# Define a JSON string representing user input\n",
    "user_input_json = '''\n",
    "{\n",
    "    \"name\": \"Joe User\",\n",
    "    \"email\": \"joe.user@example.com\",\n",
    "    \"query\": \"I forgot my password.\",\n",
    "    \"order_number\": null,\n",
    "    \"purchase_date\": null\n",
    "}\n",
    "'''"
   ]
  },
  {
   "cell_type": "markdown",
   "id": "b8ddf394-96bf-4c61-bb3b-3d527cc0f2d1",
   "metadata": {},
   "source": [
    "# Define your UserInput data model"
   ]
  },
  {
   "cell_type": "code",
   "execution_count": null,
   "id": "c05a7702-5d0b-46e2-aa08-d9d0f22d2c44",
   "metadata": {},
   "outputs": [],
   "source": [
    "# Define UserInput model\n",
    "class UserInput(BaseModel):\n",
    "    name: str\n",
    "    email: EmailStr\n",
    "    query: str\n",
    "    order_id: Optional[int] = Field(\n",
    "        None,\n",
    "        description=\"5-digit order number (cannot start with 0)\",\n",
    "        ge=10000,\n",
    "        le=99999\n",
    "    )\n",
    "    purchase_date: Optional[date] = None"
   ]
  },
  {
   "cell_type": "code",
   "execution_count": null,
   "id": "e0eb29da-ed7c-4cd6-9e85-a1c2a65822bc",
   "metadata": {},
   "outputs": [],
   "source": [
    "# Create UserInput instance from JSON data\n",
    "user_input = UserInput.model_validate_json(user_input_json)"
   ]
  },
  {
   "cell_type": "markdown",
   "id": "45940946-6bbd-4e86-bfda-67ba88d9d72b",
   "metadata": {},
   "source": [
    "# Create a new data model called CustomerQuery"
   ]
  },
  {
   "cell_type": "code",
   "execution_count": null,
   "id": "0a4b2ff5-f265-4cc1-ae8b-6313b1654985",
   "metadata": {},
   "outputs": [],
   "source": [
    "# Define the CustomerQuery model that inherits from UserInput\n",
    "class CustomerQuery(UserInput):\n",
    "    priority: str = Field(\n",
    "        ..., description=\"Priority level: low, medium, high\"\n",
    "    )\n",
    "    category: Literal[\n",
    "        'refund_request', 'information_request', 'other'\n",
    "    ] = Field(..., description=\"Query category\")\n",
    "    is_complaint: bool = Field(\n",
    "        ..., description=\"Whether this is a complaint\"\n",
    "    )\n",
    "    tags: List[str] = Field(..., description=\"Relevant keyword tags\")"
   ]
  }
 ],
 "metadata": {
  "kernelspec": {
   "display_name": "Python 3 (ipykernel)",
   "language": "python",
   "name": "python3"
  },
  "language_info": {
   "codemirror_mode": {
    "name": "ipython",
    "version": 3
   },
   "file_extension": ".py",
   "mimetype": "text/x-python",
   "name": "python",
   "nbconvert_exporter": "python",
   "pygments_lexer": "ipython3",
   "version": "3.13.7"
  }
 },
 "nbformat": 4,
 "nbformat_minor": 5
}
